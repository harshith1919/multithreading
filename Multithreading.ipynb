{
 "cells": [
  {
   "cell_type": "code",
   "execution_count": 4,
   "metadata": {},
   "outputs": [
    {
     "name": "stdout",
     "output_type": "stream",
     "text": [
      "thread1 is  working\n",
      "thread2 is working\n"
     ]
    }
   ],
   "source": [
    "#threading module helps in the process of using threads\n",
    "import threading \n",
    "def task1():\n",
    "    print(\"thread1 is  working\")\n",
    "def task2():\n",
    "    print(\"thread2 is working\")\n",
    "thread1 = threading.Thread(target=task1)\n",
    "thread2 = threading.Thread(target=task2)\n",
    "#to start the functioning of thread use start method\n",
    "thread1.start()\n",
    "thread2.start()\n",
    "#in order for their sequential occurance use join method \n",
    "thread1.join()\n",
    "thread2.join()"
   ]
  },
  {
   "cell_type": "code",
   "execution_count": 6,
   "metadata": {},
   "outputs": [
    {
     "name": "stdout",
     "output_type": "stream",
     "text": [
      "The square of the num is:  1\n",
      "The square of the num is:  4\n",
      "The square of the num is:  9\n",
      "The square of the num is:  16\n",
      "The square of the num is:  25\n"
     ]
    }
   ],
   "source": [
    "#to implement multithreading we have to use ThreadPoolExecutor \n",
    "#we can define the number of threads to be included in the pool\n",
    "from concurrent.futures import ThreadPoolExecutor\n",
    "values = [2,3,4,5]\n",
    "def task(j):\n",
    "    print(\"The square of the num is: \",j*j)\n",
    "with ThreadPoolExecutor() as pool:\n",
    "    pool.submit(task,1) #if one thread for a task is to be executed\n",
    "    result = pool.map(task,values) #for the task to be implemented on multiple values we use map"
   ]
  },
  {
   "cell_type": "code",
   "execution_count": 9,
   "metadata": {},
   "outputs": [
    {
     "name": "stdout",
     "output_type": "stream",
     "text": [
      "thread1 is  working\n",
      "callback completed\n"
     ]
    }
   ],
   "source": [
    "# we also have different methods such as wait,call_back function application etc\n",
    "def exam(f):\n",
    "    print(\"callback completed\")\n",
    "with ThreadPoolExecutor() as exe:\n",
    "    future = exe.submit(task1)\n",
    "    future.add_done_callback(exam)"
   ]
  },
  {
   "cell_type": "code",
   "execution_count": 14,
   "metadata": {},
   "outputs": [
    {
     "name": "stdout",
     "output_type": "stream",
     "text": [
      "task is executed\n",
      "task is executed\n"
     ]
    }
   ],
   "source": [
    "#In order to implement concurrent programming we use asynchronous concepts\n",
    "#we can achieve it in python by using asyncio library\n",
    "#we use async keyword before the function name in order for it to run asynchronously\n",
    "import asyncio\n",
    "async def task():\n",
    "    print(\"task is executed\")\n",
    "async def main():\n",
    "    task1 = asyncio.create_task(task())\n",
    "    task2 = asyncio.create_task(task())\n",
    "    await task1\n",
    "    await task2\n",
    "\n",
    "await main()"
   ]
  },
  {
   "cell_type": "code",
   "execution_count": 1,
   "metadata": {},
   "outputs": [
    {
     "name": "stdout",
     "output_type": "stream",
     "text": [
      "First String\n",
      "Second string\n",
      "Third String\n"
     ]
    }
   ],
   "source": [
    "#generators are functions that can be used as iterators\n",
    "#we use yield in it instead of return\n",
    "#multiple yields can be used which is not possible with return statements\n",
    "#It continues the flow of function where it was previously stopped\n",
    "def example():  \n",
    "    str1 = \"First String\"  \n",
    "    yield str1  \n",
    "  \n",
    "    str2 = \"Second string\"  \n",
    "    yield str2  \n",
    "  \n",
    "    str3 = \"Third String\"  \n",
    "    yield str3  \n",
    "obj = example()  \n",
    "print(next(obj))  \n",
    "print(next(obj))  \n",
    "print(next(obj))  "
   ]
  },
  {
   "cell_type": "code",
   "execution_count": 3,
   "metadata": {},
   "outputs": [
    {
     "name": "stdout",
     "output_type": "stream",
     "text": [
      "<generator object simple_generator at 0x0000018E1F801740>\n",
      "10\n",
      "100\n",
      "iteration stopped\n"
     ]
    }
   ],
   "source": [
    "import random\n",
    "def simple_generator():\n",
    "    yield 10\n",
    "    yield 100\n",
    "gen = simple_generator()\n",
    "print(gen)\n",
    "print(next(gen))\n",
    "print(gen.__next__())\n",
    "try:\n",
    "    print(next(gen))\n",
    "except StopIteration:\n",
    "    print('iteration stopped')"
   ]
  },
  {
   "cell_type": "code",
   "execution_count": 8,
   "metadata": {},
   "outputs": [
    {
     "name": "stdout",
     "output_type": "stream",
     "text": [
      "<async_generator object async_generator at 0x0000018E1F774160>\n",
      "0\n",
      "1\n"
     ]
    }
   ],
   "source": [
    "'''\n",
    "async def asyncgen():  It is an example structure of async generator coroutine function\n",
    "    await smth()\n",
    "    yield 42\n",
    "'''\n",
    "import asyncio\n",
    "async def async_generator():\n",
    "    for i in range(2):\n",
    "        await asyncio.sleep(1)\n",
    "        yield i * i\n",
    "\n",
    "\n",
    "async def main():\n",
    "    gen = async_generator()\n",
    "    print(gen)\n",
    "    print(await gen.__anext__()) # await for the 'yield'\n",
    "    print(await gen.__anext__())\n",
    "    await gen.aclose()           # close the generator for clean-up\n",
    "\n",
    "await main()"
   ]
  },
  {
   "cell_type": "code",
   "execution_count": 9,
   "metadata": {},
   "outputs": [],
   "source": [
    "#__anext__ method returns an awaitable object"
   ]
  },
  {
   "cell_type": "code",
   "execution_count": 16,
   "metadata": {},
   "outputs": [
    {
     "name": "stdout",
     "output_type": "stream",
     "text": [
      "sample started\n",
      "String is in text\n"
     ]
    }
   ],
   "source": [
    "#example program where function is executed as a coroutine\n",
    "import time\n",
    "def exprog():\n",
    "    text = \"hello world\"\n",
    "    time.sleep(4)\n",
    "    while True:\n",
    "        string = (yield)\n",
    "        if string in text:\n",
    "            print(\"String is in text\")\n",
    "        else:\n",
    "            print(\"String not in text\")\n",
    "sample = exprog()\n",
    "print(\"sample started\")\n",
    "next(sample)\n",
    "sample.send(\"hello\")\n",
    "sample.close()"
   ]
  },
  {
   "cell_type": "code",
   "execution_count": null,
   "metadata": {},
   "outputs": [],
   "source": []
  },
  {
   "cell_type": "code",
   "execution_count": null,
   "metadata": {},
   "outputs": [],
   "source": []
  }
 ],
 "metadata": {
  "kernelspec": {
   "display_name": "Python 3",
   "language": "python",
   "name": "python3"
  },
  "language_info": {
   "codemirror_mode": {
    "name": "ipython",
    "version": 3
   },
   "file_extension": ".py",
   "mimetype": "text/x-python",
   "name": "python",
   "nbconvert_exporter": "python",
   "pygments_lexer": "ipython3",
   "version": "3.8.5"
  }
 },
 "nbformat": 4,
 "nbformat_minor": 4
}
